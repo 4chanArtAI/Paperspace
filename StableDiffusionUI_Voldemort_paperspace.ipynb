{
 "cells": [
  {
   "cell_type": "markdown",
   "metadata": {
    "id": "gfKvWAVnz8OB",
    "tags": []
   },
   "source": [
    "# Voldemort's Stable Diffusion WebUI\n",
    "\n",
    "Adapted from: https://colab.research.google.com/drive/1Iy-xW9t1-OQWhb0hNxueGij8phCyluOh\n",
    "\n",
    "**Updating the Notebook**\n",
    "\n",
    "In the Tools section at the bottom of the notebook there is a block to download the latest version from Github.\n",
    "\n",
    "**Guides**\n",
    "- [Getting started on Paperspace](https://github.com/Engineer-of-Stuff/stable-diffusion-paperspace/blob/main/Docs/Paperspace%20Guide%20for%20Retards.md)\n",
    "- [Using the WebUI](https://rentry.org/voldy)\n",
    "- [Using the Inpainter](https://rentry.org/drfar)\n",
    "- [Textual Inversion](https://rentry.org/aikgx)\n",
    "- [Crowd-Sourced Prompts](https://lexica.art/)\n",
    "- [Artist Name Prompts](https://sgreens.notion.site/sgreens/4ca6f4e229e24da6845b6d49e6b08ae7?v=fdf861d1c65d456e98904fe3f3670bd3)"
   ]
  },
  {
   "cell_type": "markdown",
   "metadata": {
    "tags": []
   },
   "source": [
    "## Installation and Setup\n",
    "\n",
    "You must reinstall everything each time you restart the machine. If already downloaded dependencies will be auto-updated."
   ]
  },
  {
   "cell_type": "markdown",
   "metadata": {},
   "source": [
    "**Where to store the models**\n",
    "\n",
    "`/storage/` is persistent storage shared across all machines on your account.\n",
    "\n",
    "`/notebooks/` is storage for this notebook only.\n",
    "\n",
    "We're going to store models in `/storage/models` and create a symlink.\n",
    "\n",
    "_You must run the block below or else the variable won't be accessable in the notebook._"
   ]
  },
  {
   "cell_type": "code",
   "execution_count": null,
   "metadata": {
    "execution": {
     "iopub.execute_input": "2022-09-30T23:10:09.252058Z",
     "iopub.status.busy": "2022-09-30T23:10:09.251564Z",
     "iopub.status.idle": "2022-09-30T23:10:09.256870Z",
     "shell.execute_reply": "2022-09-30T23:10:09.256085Z",
     "shell.execute_reply.started": "2022-09-30T23:10:09.252031Z"
    }
   },
   "outputs": [],
   "source": [
    "model_storage_dir = '/storage/models' # no trailing slash\n",
    "\n",
    "# ===============================================================\n",
    "# Save the variable to Jupiter's temp storage to access it when the kernel restarts.\n",
    "# To reset your storage directory, rerun this cell.\n",
    "%store model_storage_dir"
   ]
  },
  {
   "cell_type": "markdown",
   "metadata": {
    "tags": []
   },
   "source": [
    "### Clone the central repository"
   ]
  },
  {
   "cell_type": "code",
   "execution_count": null,
   "metadata": {
    "execution": {
     "iopub.execute_input": "2022-09-30T23:22:01.908952Z",
     "iopub.status.busy": "2022-09-30T23:22:01.908678Z",
     "iopub.status.idle": "2022-09-30T23:22:14.439195Z",
     "shell.execute_reply": "2022-09-30T23:22:14.438451Z",
     "shell.execute_reply.started": "2022-09-30T23:22:01.908932Z"
    },
    "id": "sBbcB4vwj_jm",
    "tags": []
   },
   "outputs": [],
   "source": [
    "import os.path\n",
    "%store -r model_storage_dir\n",
    "if not os.path.exists('/notebooks/stable-diffusion-webui'):\n",
    "    %cd /notebooks/\n",
    "    !git clone https://github.com/AUTOMATIC1111/stable-diffusion-webui\n",
    "else: # update repo if already exists\n",
    "    print('stable-diffusion-webui already downloaded, updating...')\n",
    "    %cd /notebooks/stable-diffusion-webui\n",
    "    !git pull\n",
    "    %cd /notebooks/stable-diffusion-webui/scripts\n",
    "    !wget https://raw.githubusercontent.com/jtkelm2/stable-diffusion-webui-1/master/scripts/wildcards.py\n",
    "    !wget https://raw.githubusercontent.com/ThereforeGames/txt2img2img/main/scripts/txt2img2img.py\n",
    "    !wget https://raw.githubusercontent.com/yownas/seed_travel/main/scripts/seed_travel.py\n",
    "    !wget https://raw.githubusercontent.com/Pfaeff/sd-web-ui-scripts/main/moisaic.py\n",
    "if not os.path.exists('/notebooks/stable-diffusion-webui/scripts/wildcards/'):\n",
    "    !mkdir -p /notebooks/stable-diffusion-webui/scripts/wildcards\n",
    "    %cd /notebooks/stable-diffusion-webui/scripts/wildcards\n",
    "    !wget https://raw.githubusercontent.com/jtkelm2/stable-diffusion-webui-1/master/scripts/wildcards/adjective.txt\n",
    "    !wget https://raw.githubusercontent.com/jtkelm2/stable-diffusion-webui-1/master/scripts/wildcards/artist.txt\n",
    "    !wget https://raw.githubusercontent.com/jtkelm2/stable-diffusion-webui-1/master/scripts/wildcards/genre.txt\n",
    "    !wget https://raw.githubusercontent.com/jtkelm2/stable-diffusion-webui-1/master/scripts/wildcards/site.txt\n",
    "    !wget https://raw.githubusercontent.com/jtkelm2/stable-diffusion-webui-1/master/scripts/wildcards/style.txt"
   ]
  },
  {
   "cell_type": "markdown",
   "metadata": {
    "id": "C68TUpkq0nj_",
    "tags": []
   },
   "source": [
    "### Install requirements and download repositories"
   ]
  },
  {
   "cell_type": "code",
   "execution_count": null,
   "metadata": {
    "execution": {
     "iopub.execute_input": "2022-09-30T23:22:37.509876Z",
     "iopub.status.busy": "2022-09-30T23:22:37.508889Z",
     "iopub.status.idle": "2022-09-30T23:22:37.890912Z",
     "shell.execute_reply": "2022-09-30T23:22:37.890342Z",
     "shell.execute_reply.started": "2022-09-30T23:22:37.509850Z"
    },
    "id": "SaAJk33ppFw1",
    "scrolled": true,
    "tags": []
   },
   "outputs": [],
   "source": [
    "%cd /notebooks/stable-diffusion-webui\n",
    "%store -r model_storage_dir\n",
    "\n",
    "# Import launch.py which will automatically run the install script but not launch the WebUI.\n",
    "# They require a few specific external git repo commits so we have to do it their way. \n",
    "import launch\n",
    "\n",
    "# Download the GFPGAN face restorer.\n",
    "if not os.path.exists('/notebooks/stable-diffusion-webui/GFPGANv1.3.pth'):\n",
    "    !wget https://github.com/TencentARC/GFPGAN/releases/download/v1.3.0/GFPGANv1.3.pth -O /notebooks/stable-diffusion-webui/GFPGANv1.3.pth\n",
    "else:\n",
    "    print('GFPGANv1.3.pth already downloaded')\n",
    "    \n",
    "# Make sure your models storage directory exists\n",
    "!mkdir -p $model_storage_dir"
   ]
  },
  {
   "cell_type": "markdown",
   "metadata": {
    "id": "F0EINk5M0s-w",
    "jp-MarkdownHeadingCollapsed": true,
    "tags": []
   },
   "source": [
    "### Download the Model"
   ]
  },
  {
   "cell_type": "markdown",
   "metadata": {},
   "source": [
    "I've provided a few different ways of aquiring the models. Try the torrent option first.\n",
    "\n",
    "You don't need to repeat this step if you've already downloaded the models.\n",
    "\n",
    "**Filesize and Storage Disclaimer**\n",
    "\n",
    "Paperspace free tier has only 5GB of storage space. The standard model is 4GB and waifu is 3.5GB/7.2GB. To get around this limited storage capacity we will download the models to `/storage/`, a non-persistent directory. Each time you restart the machine you will have to redownload the models.\n",
    "\n",
    "If you don't want to have to redownload the models every time you restart your machine you have three options:\n",
    "1. Add a payment method to your account. Storage overages are billed at \\$0.29/GB and billing occurs monthly and runs at midnight on the first of each month. With a payment method on file, Paperspace will let you use more storage and if you time it right you shouldn't actually be charged for it.\n",
    "2. Upgrade to a Pro account. They'll give you 15GB and you'll get longer runtimes and more powerful free GPUs.\n",
    "3. Use my referral code `3E5P612` You'll get \\$10 credit that you should be able to put towards the storage overage charges. Redeem the code at the bottom of the Billing page.\n",
    "\n",
    "**Torrent Instructions**\n",
    "\n",
    "Aria2 may show some errors/warnings while downloading. Those are fine, when it eventually says \"Download Complete\" that means everything worked as it should."
   ]
  },
  {
   "cell_type": "markdown",
   "metadata": {
    "tags": []
   },
   "source": [
    "#### Standard Model"
   ]
  },
  {
   "cell_type": "markdown",
   "metadata": {},
   "source": [
    "**Torrent**"
   ]
  },
  {
   "cell_type": "code",
   "execution_count": null,
   "metadata": {
    "execution": {
     "iopub.execute_input": "2022-09-29T09:54:20.509832Z",
     "iopub.status.busy": "2022-09-29T09:54:20.509623Z",
     "iopub.status.idle": "2022-09-29T09:54:30.629781Z",
     "shell.execute_reply": "2022-09-29T09:54:30.629003Z",
     "shell.execute_reply.started": "2022-09-29T09:54:20.509813Z"
    }
   },
   "outputs": [],
   "source": [
    "%store -r model_storage_dir\n",
    "!apt update\n",
    "!apt install -y aria2\n",
    "%cd $model_storage_dir\n",
    "!aria2c --seed-time=0 --max-overall-upload-limit=1K \"magnet:?xt=urn:btih:3A4A612D75ED088EA542ACAC52F9F45987488D1C&tr=udp://tracker.opentrackr.org:1337/announce\""
   ]
  },
  {
   "cell_type": "markdown",
   "metadata": {},
   "source": [
    "**Web Download**\n",
    "\n",
    "Voldy provided an alternative download if you don't want to use HuggingFace.\n",
    "\n",
    "[https://drive.google.com/file/d/1wHFgl0ivCmIZv88hVZXkb8oy9qCuaBGA/view](https://drive.google.com/file/d/1wHFgl0ivCmIZv88hVZXkb8oy9qCuaBGA/view)\n",
    "\n",
    "Download it to your computer then upload it to your model storage directory (make sure it's named `sd-v1-4.ckpt`).\n",
    "\n",
    "HuggingFace is much faster and reliable but you need to get access to the repo and provide your user token."
   ]
  },
  {
   "cell_type": "code",
   "execution_count": null,
   "metadata": {
    "id": "CT_J9L7oqLxG"
   },
   "outputs": [],
   "source": [
    "user_token = \"<enter your user token here>\"\n",
    "\n",
    "# ===============================================================================================\n",
    "%store -r model_storage_dir\n",
    "!wget --header=\"'Authorization: Bearer {user_token}'\" https://huggingface.co/CompVis/stable-diffusion-v-1-4-original/resolve/main/sd-v1-4.ckpt -O $model_storage_dir/sd-v1-4.ckpt"
   ]
  },
  {
   "cell_type": "markdown",
   "metadata": {
    "tags": []
   },
   "source": [
    "#### Waifu Diffusion\n",
    "\n",
    "The original Stable Diffusion anime finetune."
   ]
  },
  {
   "cell_type": "code",
   "execution_count": null,
   "metadata": {
    "execution": {
     "iopub.execute_input": "2022-09-25T15:59:04.919305Z",
     "iopub.status.busy": "2022-09-25T15:59:04.919128Z",
     "iopub.status.idle": "2022-09-25T15:59:22.701393Z",
     "shell.execute_reply": "2022-09-25T15:59:22.700668Z",
     "shell.execute_reply.started": "2022-09-25T15:59:04.919287Z"
    }
   },
   "outputs": [],
   "source": [
    "!apt update\n",
    "!apt install -y aria2\n",
    "%cd $model_storage_dir\n",
    "!aria2c --seed-time=0 --max-overall-upload-limit=1K \"magnet:?xt=urn:btih:153590FD7E93EE11D8DB951451056C362E3A9150&dn=wd-v1-2-full-ema-pruned.ckpt&tr=udp://tracker.opentrackr.org:1337/announce\""
   ]
  },
  {
   "cell_type": "markdown",
   "metadata": {
    "tags": []
   },
   "source": [
    "#### trinart_stable_diffusion_v2"
   ]
  },
  {
   "cell_type": "markdown",
   "metadata": {},
   "source": [
    "Anime finetune.\n",
    "\n",
    "The 60000 steps version is the original, the 115000 steps is the 60000 with additional training. Use the 60000 step version if the style nudging is too much.\n",
    "\n",
    "[See the comparison here](https://raw.githubusercontent.com/Engineer-of-Stuff/stable-diffusion-paperspace/main/Docs/Assets/model%20comparison.jpg)"
   ]
  },
  {
   "cell_type": "markdown",
   "metadata": {},
   "source": [
    "**60000**"
   ]
  },
  {
   "cell_type": "code",
   "execution_count": null,
   "metadata": {},
   "outputs": [],
   "source": [
    "%store -r model_storage_dir\n",
    "!wget https://huggingface.co/naclbit/trinart_stable_diffusion_v2/resolve/main/trinart2_step60000.ckpt -O $model_storage_dir/trinart2_step60000.ckpt"
   ]
  },
  {
   "cell_type": "markdown",
   "metadata": {},
   "source": [
    "**95000**"
   ]
  },
  {
   "cell_type": "code",
   "execution_count": null,
   "metadata": {},
   "outputs": [],
   "source": [
    "%store -r model_storage_dir\n",
    "!wget https://huggingface.co/naclbit/trinart_stable_diffusion_v2/resolve/main/trinart2_step95000.ckpt -O $model_storage_dir/trinart2_step95000.ckpt"
   ]
  },
  {
   "cell_type": "markdown",
   "metadata": {},
   "source": [
    "**115000**"
   ]
  },
  {
   "cell_type": "code",
   "execution_count": null,
   "metadata": {},
   "outputs": [],
   "source": [
    "%store -r model_storage_dir\n",
    "!wget https://huggingface.co/naclbit/trinart_stable_diffusion_v2/resolve/main/trinart2_step115000.ckpt -O $model_storage_dir/trinart2_step115000.ckpt"
   ]
  },
  {
   "cell_type": "markdown",
   "metadata": {
    "tags": []
   },
   "source": [
    "### Clean up and restart the kernel"
   ]
  },
  {
   "cell_type": "code",
   "execution_count": null,
   "metadata": {
    "execution": {
     "iopub.execute_input": "2022-09-30T23:22:49.077265Z",
     "iopub.status.busy": "2022-09-30T23:22:49.076319Z"
    }
   },
   "outputs": [],
   "source": [
    "%store -r model_storage_dir\n",
    "\n",
    "# Get some storage back\n",
    "!pip cache purge\n",
    "!rm $model_storage_dir/*.aria2\n",
    "!apt remove --purge -y aria2\n",
    "!apt autoremove --purge -y\n",
    "!apt clean\n",
    "\n",
    "# Restart the kernel\n",
    "import os\n",
    "os.kill(os.getpid(), 9)"
   ]
  },
  {
   "cell_type": "markdown",
   "metadata": {},
   "source": [
    "### Link the models directory\n",
    "\n",
    "Create symlinks. The file will be stored in the models storage directory and linked to where the WebUI expects the files to be."
   ]
  },
  {
   "cell_type": "code",
   "execution_count": null,
   "metadata": {
    "execution": {
     "iopub.execute_input": "2022-09-30T23:22:59.730654Z",
     "iopub.status.busy": "2022-09-30T23:22:59.730054Z",
     "iopub.status.idle": "2022-09-30T23:23:00.940545Z",
     "shell.execute_reply": "2022-09-30T23:23:00.939427Z",
     "shell.execute_reply.started": "2022-09-30T23:22:59.730585Z"
    }
   },
   "outputs": [],
   "source": [
    "%store -r model_storage_dir\n",
    "import os\n",
    "\n",
    "# Check for broken symlinks and remove them\n",
    "for file in os.listdir('/notebooks/stable-diffusion-webui/models/'):\n",
    "    path = f'/notebooks/stable-diffusion-webui/models/{file}'\n",
    "    if os.path.islink(path) and not os.path.exists(os.readlink(path)):\n",
    "        print(f'Symlink broken, removing: {file}')\n",
    "        os.unlink(path)\n",
    "\n",
    "# Make symlinks for new files\n",
    "for file in os.listdir(model_storage_dir):\n",
    "    if file.endswith(\"ckpt\"):\n",
    "        path = f'/notebooks/stable-diffusion-webui/models/{file}'\n",
    "        if not os.path.exists(path):\n",
    "            print(f'New model: {file}')\n",
    "            !ln -s $model_storage_dir/$file /notebooks/stable-diffusion-webui/models/$file\n",
    "        !ls -la --block-size=GB /notebooks/stable-diffusion-webui/models/$file"
   ]
  },
  {
   "cell_type": "markdown",
   "metadata": {
    "id": "xt8lbdmC04ox"
   },
   "source": [
    "# Launch the WebUI"
   ]
  },
  {
   "cell_type": "markdown",
   "metadata": {},
   "source": [
    "Run this block to launch the WebUI. You will get a link to nnn.gradio.app, that's your WebUI. Follow it.\n",
    "\n",
    "If you have any issues, restart the kernel.\n",
    "\n",
    "If you have a lot of VRAM and aren't generating large images you can add the flag `--disable-opt-split-attention` to disable VRAM optimizations for a speed boost."
   ]
  },
  {
   "cell_type": "code",
   "execution_count": null,
   "metadata": {
    "execution": {
     "iopub.execute_input": "2022-09-30T23:23:08.326420Z",
     "iopub.status.busy": "2022-09-30T23:23:08.326131Z"
    },
    "id": "R-xAdMA5wxXd",
    "tags": []
   },
   "outputs": [],
   "source": [
    "%store -r model_storage_dir\n",
    "%cd /notebooks/stable-diffusion-webui\n",
    "!python /notebooks/stable-diffusion-webui/webui.py --share #--disable-opt-split-attention"
   ]
  },
  {
   "cell_type": "markdown",
   "metadata": {
    "jp-MarkdownHeadingCollapsed": true,
    "tags": []
   },
   "source": [
    "# Export Generations"
   ]
  },
  {
   "cell_type": "markdown",
   "metadata": {},
   "source": [
    "This block will rename and compress the outputs with 7zip max compression. It expects you to have `log/` and `outputs/` in `/notebooks/`."
   ]
  },
  {
   "cell_type": "code",
   "execution_count": null,
   "metadata": {
    "execution": {
     "iopub.execute_input": "2022-09-30T16:18:04.897682Z",
     "iopub.status.busy": "2022-09-30T16:18:04.896914Z"
    },
    "scrolled": true,
    "tags": []
   },
   "outputs": [],
   "source": [
    "!apt update\n",
    "!apt install -y p7zip-full\n",
    "from datetime import datetime\n",
    "import os\n",
    "datetime_str = datetime.now().strftime('%m-%d-%Y_%H:%M:%S')\n",
    "%cd /notebooks/\n",
    "!mkdir $datetime_str\n",
    "!mv log $datetime_str\n",
    "!mv stable-diffusion-webui/outputs $datetime_str\n",
    "print('Compressing, please wait...')\n",
    "os.system(f'7z a -t7z -m0=lzma2 -mx=9 -mfb=64 -md=32m -ms=on {datetime_str}.7z {datetime_str}/')"
   ]
  },
  {
   "cell_type": "markdown",
   "metadata": {
    "tags": []
   },
   "source": [
    "### Delete old output folder\n",
    "\n",
    "This block will delete the folder you just compressed."
   ]
  },
  {
   "cell_type": "code",
   "execution_count": null,
   "metadata": {
    "execution": {
     "iopub.execute_input": "2022-09-29T07:02:39.897667Z",
     "iopub.status.busy": "2022-09-29T07:02:39.897423Z",
     "iopub.status.idle": "2022-09-29T07:06:56.253809Z",
     "shell.execute_reply": "2022-09-29T07:06:56.253120Z",
     "shell.execute_reply.started": "2022-09-29T07:02:39.897648Z"
    }
   },
   "outputs": [],
   "source": [
    "!rm -rf /notebooks/$datetime_str/\n",
    "!echo Deleted /notebooks/$datetime_str/"
   ]
  },
  {
   "cell_type": "markdown",
   "metadata": {
    "jp-MarkdownHeadingCollapsed": true,
    "tags": []
   },
   "source": [
    "# Tools"
   ]
  },
  {
   "cell_type": "markdown",
   "metadata": {},
   "source": [
    "**Show graphics card info**"
   ]
  },
  {
   "cell_type": "code",
   "execution_count": null,
   "metadata": {},
   "outputs": [],
   "source": [
    "!nvidia-smi"
   ]
  },
  {
   "cell_type": "markdown",
   "metadata": {},
   "source": [
    "**Download the latest version of this notebook from Github**\n",
    "\n",
    "Run this and refresh the page (press F5). Don't save anything or you will overwrite the downloaded file."
   ]
  },
  {
   "cell_type": "code",
   "execution_count": 1,
   "metadata": {
    "execution": {
     "iopub.execute_input": "2022-09-30T23:06:53.500306Z",
     "iopub.status.busy": "2022-09-30T23:06:53.500006Z",
     "iopub.status.idle": "2022-09-30T23:06:54.791317Z",
     "shell.execute_reply": "2022-09-30T23:06:54.790590Z",
     "shell.execute_reply.started": "2022-09-30T23:06:53.500250Z"
    }
   },
   "outputs": [
    {
     "name": "stdout",
     "output_type": "stream",
     "text": [
      "--2022-09-30 23:06:54--  https://raw.githubusercontent.com/Engineer-of-Stuff/stable-diffusion-paperspace/main/StableDiffusionUI_Voldemort_paperspace.ipynb\n",
      "Resolving raw.githubusercontent.com (raw.githubusercontent.com)... 185.199.111.133, 185.199.110.133, 185.199.109.133, ...\n",
      "Connecting to raw.githubusercontent.com (raw.githubusercontent.com)|185.199.111.133|:443... connected.\n",
      "HTTP request sent, awaiting response... 200 OK\n",
      "Length: 19395 (19K) [text/plain]\n",
      "Saving to: ‘/notebooks/StableDiffusionUI_Voldemort_paperspace.ipynb’\n",
      "\n",
      "/notebooks/StableDi 100%[===================>]  18.94K  --.-KB/s    in 0s      \n",
      "\n",
      "2022-09-30 23:06:54 (124 MB/s) - ‘/notebooks/StableDiffusionUI_Voldemort_paperspace.ipynb’ saved [19395/19395]\n",
      "\n"
     ]
    }
   ],
   "source": [
    "!mv /notebooks/StableDiffusionUI_Voldemort_paperspace.ipynb /notebooks/StableDiffusionUI_Voldemort_paperspace.ipynb.backup\n",
    "!wget https://raw.githubusercontent.com/4chanArtAI/Paperspace/main/StableDiffusionUI_Voldemort_paperspace.ipynb"
   ]
  }
 ],
 "metadata": {
  "accelerator": "GPU",
  "colab": {
   "collapsed_sections": [],
   "private_outputs": true,
   "provenance": []
  },
  "gpuClass": "standard",
  "kernelspec": {
   "display_name": "Python 3 (ipykernel)",
   "language": "python",
   "name": "python3"
  },
  "language_info": {
   "codemirror_mode": {
    "name": "ipython",
    "version": 3
   },
   "file_extension": ".py",
   "mimetype": "text/x-python",
   "name": "python",
   "nbconvert_exporter": "python",
   "pygments_lexer": "ipython3",
   "version": "3.9.13"
  }
 },
 "nbformat": 4,
 "nbformat_minor": 4
}
